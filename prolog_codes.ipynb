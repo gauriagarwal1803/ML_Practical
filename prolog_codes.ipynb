{
  "nbformat": 4,
  "nbformat_minor": 0,
  "metadata": {
    "colab": {
      "provenance": []
    },
    "kernelspec": {
      "name": "python3",
      "display_name": "Python 3"
    },
    "language_info": {
      "name": "python"
    }
  },
  "cells": [
    {
      "cell_type": "code",
      "execution_count": null,
      "metadata": {
        "id": "3J-6GMFI2kuK"
      },
      "outputs": [],
      "source": [
        "female(gauri).\n",
        "female(kirti).\n",
        "female(manisha).\n",
        "female(shilpi).\n",
        "female(pallavi).\n",
        "female(meena).\n",
        "female(sudha).\n",
        "female(shivanshi).\n",
        "female(aradhya).\n",
        "\n",
        "male(shivansh).\n",
        "male(mohit).\n",
        "male(gopal).\n",
        "male(girish).\n",
        "male(neeraj).\n",
        "male(tushar).\n",
        "male(manas).\n",
        "\n",
        "parent(manisha,gauri).\n",
        "parent( mohit,gauri).\n",
        "parent( manisha,kirti).\n",
        "parent(mohit,kirti).\n",
        "parent( sudha,manisha).\n",
        "parent(sudha,shilpi).\n",
        "parent(girish,pallavi).\n",
        "parent(girish,manisha).\n",
        "parent( girish,shilpi).\n",
        "parent(sudha,pallavi).\n",
        "parent(gopal,mohit).\n",
        "parent(meena,mohit).\n",
        "parent(neeraj,shivanshi).\n",
        "parent(shilpi,shivanshi).\n",
        "parent(neeraj,shivansh).\n",
        "parent(shilpi,shivansh).\n",
        "parent(pallavi,aradhya).\n",
        "parent(pallavi,manas).\n",
        "parent(tushar,manas).\n",
        "parent(tushar,aradhya).\n",
        "\n",
        "sibling(X,Y) :- parent(X,M) , parent(Y,M), different(X,Y).\n",
        "mother(X, Y) :- parent(X, Y), female(X).\n",
        "father(X, Y) :- parent(X, Y), male(X).\n",
        "spouse(X, Y) :- parent(X, Z), parent(Y, Z), different(X,Y).\n",
        "sister(X, Y) :- parent(Z, X), parent(Z, Y), female(X), different(X, Y).\n",
        "brother(X, Y) :- parent(Z, X), parent(Z, Y), male(X), different(X, Y).\n",
        "cousin(X,Y) :- predecessor(Z,X), predecessor(P,Y),\n",
        "    not(sister(X,Y)),\n",
        "    not(brother(X,Y)),\n",
        "    different(X,Y),\n",
        "    (sister(Z,P);brother(Z,P)).\n",
        "\n",
        "\n",
        "grandparent(X, Z) :- parent(X, Y), parent(Y, Z).\n",
        "\n",
        "predecessor(X, Z) :- parent(X, Z).\n",
        "predecessor(X, Z) :- parent(X, Y), predecessor(Y, Z).\n",
        "\n",
        "different(X, Y) :- X \\= Y."
      ]
    },
    {
      "cell_type": "code",
      "source": [
        "print([]).\n",
        "print([X|Y]):- write(X),write(' '), print(Y)."
      ],
      "metadata": {
        "id": "445SLbxs2o5e"
      },
      "execution_count": null,
      "outputs": []
    },
    {
      "cell_type": "code",
      "source": [
        "member(X,[X|Y]).\n",
        "member(X,[Y|Z]):- member(X,Z)."
      ],
      "metadata": {
        "id": "Lm0PmX_Q2ouT"
      },
      "execution_count": null,
      "outputs": []
    },
    {
      "cell_type": "code",
      "source": [
        "concat([],L,L).\n",
        "concat([X|L1],L2,[X|L3]):- concat(L1,L2,L3)."
      ],
      "metadata": {
        "id": "0fKwMPuF7e_n"
      },
      "execution_count": null,
      "outputs": []
    },
    {
      "cell_type": "code",
      "source": [
        ":- use_module(library(clpfd)).\n",
        "puzzle([S,E,N,D]+[M,O,R,E]=[M,O,N,E,Y]):-\n",
        "    Vars=[S,E,N,D,M,O,R,Y],\n",
        "    Vars ins 0..9,\n",
        "    all_different(Vars),\n",
        "    S*1000+E*100+N*10+D + M*1000+O*100+R*10+E#=\n",
        "    M*10000+O*1000+N*100+E*10+Y,\n",
        "    M#\\=0 ,S#\\=0.\n",
        "\n",
        "\n",
        "\n",
        "puzzle([S,E,N,D]+[M,O,R,E]=[M,O,N,E,Y]),label([N])."
      ],
      "metadata": {
        "id": "ACj0QcJY7e8L"
      },
      "execution_count": null,
      "outputs": []
    },
    {
      "cell_type": "code",
      "source": [],
      "metadata": {
        "id": "THJ--t9M7e5e"
      },
      "execution_count": null,
      "outputs": []
    }
  ]
}